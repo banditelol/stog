{
 "metadata": {
  "language_info": {
   "codemirror_mode": {
    "name": "ipython",
    "version": 3
   },
   "file_extension": ".py",
   "mimetype": "text/x-python",
   "name": "python",
   "nbconvert_exporter": "python",
   "pygments_lexer": "ipython3",
   "version": "3.6.13"
  },
  "orig_nbformat": 2,
  "kernelspec": {
   "name": "python3613jvsc74a57bd08a824cae2f5fad11b81653589891fd42f34df367d9da3d43f7a764b7ae5104b2",
   "display_name": "Python 3.6.13 64-bit ('stog': conda)"
  },
  "metadata": {
   "interpreter": {
    "hash": "8a824cae2f5fad11b81653589891fd42f34df367d9da3d43f7a764b7ae5104b2"
   }
  }
 },
 "nbformat": 4,
 "nbformat_minor": 2,
 "cells": [
  {
   "cell_type": "code",
   "execution_count": 1,
   "metadata": {},
   "outputs": [],
   "source": [
    "import torch\n",
    "example = \"\"\"\n",
    "# ::id bolt12_64556_5627.3 ::date 2012-12-04T18:01:17 ::annotator SDL-AMR-09 ::preferred\n",
    "# ::snt Fleets bumping fishing boats. Little evil Japanese ghosts stirring up trouble and unrest. With hearts of thieves and arrogant form, they again show their wolfish appearance\n",
    "# ::save-date Sat Jan 10, 2015 ::file bolt12_64556_5627_3.txt\n",
    "(m / multi-sentence\n",
    "      :snt1 (b / bump-01\n",
    "            :ARG1 (b2 / boat\n",
    "                  :purpose (f / fish-01))\n",
    "            :ARG2 (f2 / fleet))\n",
    "      :snt2 (s / stir-up-04\n",
    "            :ARG0 (g / ghost\n",
    "                  :mod (c / country :wiki \"Japan\" :name (n / name :op1 \"Japan\"))\n",
    "                  :mod (l / little)\n",
    "                  :mod (e / evil))\n",
    "            :ARG1 (a / and\n",
    "                  :op1 (t / trouble)\n",
    "                  :op2 (u / unrest)))\n",
    "      :snt3 (s2 / show-01\n",
    "            :ARG0 (t2 / they)\n",
    "            :ARG1 (a3 / appearance\n",
    "                  :poss t2\n",
    "                  :mod (w / wolfish))\n",
    "            :mod (a2 / again)\n",
    "            :prep-with (a4 / and\n",
    "                  :op1 (h / heart\n",
    "                        :mod (p / person\n",
    "                              :ARG0-of (s3 / steal-01)))\n",
    "                  :op2 (f3 / form\n",
    "                        :mod (a5 / arrogance)))))\"\"\"\n",
    "example_path = \"example.txt\"\n",
    "with open(example_path,\"w\") as f:\n",
    "    f.write(example)"
   ]
  },
  {
   "source": [
    "# Anotasi Fitur (POS, NER, LEM, TOK)\n",
    "## Menggunakan CoreNLP Server 3.9.1\n",
    "\n",
    "> Sebelum menjalankan script ini pastikan sudah ada CoreNLP server yang jalan di lokal dengan minimal 8GB RAM\n",
    "\n",
    "> Kalau run pertama gagal, coba lagi, biasanya itu dikarenakan timeout. Karena disaat jalan awal dibutuhkan waktu lama untuk download package bahasa Inggris terlebih dahulu\n",
    "\n",
    "Bila ingin menggunakan docker bisa dicoba docker registry berikut: [banditelol/CoreNLP](https://hub.docker.com/repository/docker/banditelol/corenlp) jangan lupa untuk membuka port yang dibutuhkan\n",
    "\n",
    "## Compound File\n",
    "\n",
    "Bisa di-download dari [repo ChunchuanLv](https://github.com/ChunchuanLv/AMR_AS_GRAPH_PREDICTION/blob/master/data/joints.txt). Ini isinya kata kerja untuk yang ada di propbank, kalau di Indonesia compound words verb seperti apa. \n",
    "\n",
    "Ini berisi compound word atau kata majemuk dalam bahasa Inggris. Untuk implementasi bahasa Indonesia berarti bisa untuk menangani masalah Rumah Sakit, Rumah Makan, etc."
   ],
   "cell_type": "markdown",
   "metadata": {}
  },
  {
   "cell_type": "code",
   "execution_count": 6,
   "metadata": {},
   "outputs": [
    {
     "output_type": "stream",
     "name": "stderr",
     "text": [
      "[2021-04-21 00:51:36,189 INFO] Processing example.txt\n",
      "[2021-04-21 00:51:36,194 INFO] # ::id bolt12_64556_5627.3 ::date 2012-12-04T18:01:17 ::annotator SDL-AMR-09 ::preferred\n",
      "# ::snt Fleets bumping fishing boats. Little evil Japanese ghosts stirring up trouble and unrest. With hearts of thieves and arrogant form, they again show their wolfish appearance\n",
      "# ::save-date Sat Jan 10, 2015 ::file bolt12_64556_5627_3.txt\n",
      "(m / multi-sentence\n",
      "      :snt1 (b / bump-01\n",
      "            :ARG1 (b2 / boat\n",
      "                  :purpose (f / fish-01))\n",
      "            :ARG2 (f2 / fleet))\n",
      "      :snt2 (s / stir-up-04\n",
      "            :ARG0 (g / ghost\n",
      "                  :mod (c / country\n",
      "                        :name (n / name\n",
      "                              :op1 \"Japan\")\n",
      "                        :wiki \"Japan\")\n",
      "                  :mod (l / little)\n",
      "                  :mod (e / evil))\n",
      "            :ARG1 (a / and\n",
      "                  :op1 (t / trouble)\n",
      "                  :op2 (u / unrest)))\n",
      "      :snt3 (s2 / show-01\n",
      "            :ARG0 (t2 / they)\n",
      "            :ARG1 (a3 / appearance\n",
      "                  :mod (w / wolfish)\n",
      "                  :poss t2)\n",
      "            :mod (a2 / again)\n",
      "            :prep-with (a4 / and\n",
      "                  :op1 (h / heart\n",
      "                        :mod (p / person\n",
      "                              :ARG0-of (s3 / steal-01)))\n",
      "                  :op2 (f3 / form\n",
      "                        :mod (a5 / arrogance)))))\n"
     ]
    }
   ],
   "source": [
    "from stog.data.dataset_readers.amr_parsing.io import AMRIO\n",
    "from stog.data.dataset_readers.amr_parsing.preprocess.feature_annotator import FeatureAnnotator\n",
    "from stog.utils import logging\n",
    "from tqdm.notebook import tqdm\n",
    "\n",
    "logger = logging.init_logger()\n",
    "\n",
    "compound_file= \"data/AMR/amr_2.0_utils/joints.txt\"\n",
    "annotator = FeatureAnnotator('http://localhost:9000', compound_file)\n",
    "\n",
    "logger.info('Processing {}'.format(example_path))\n",
    "with open(example_path + '.features', 'w', encoding='utf-8') as f:\n",
    "    for i, amr in enumerate(AMRIO.read(example_path), 1):\n",
    "        if i % 1000 == 0:\n",
    "            logger.info('{} processed.'.format(i))\n",
    "        annotation = annotator(amr.sentence)\n",
    "        amr.tokens = annotation['tokens']\n",
    "        amr.lemmas = annotation['lemmas']\n",
    "        amr.pos_tags = annotation['pos_tags']\n",
    "        amr.ner_tags = annotation['ner_tags']\n",
    "        AMRIO.dump([amr], f)\n",
    "print(amr)"
   ]
  },
  {
   "cell_type": "code",
   "execution_count": null,
   "metadata": {},
   "outputs": [],
   "source": []
  },
  {
   "source": [
    "# Preprocessing\n",
    "\n",
    "Clean -> ~~Recategorize~~ -> Anonymization -> Sense Remover"
   ],
   "cell_type": "markdown",
   "metadata": {}
  },
  {
   "cell_type": "code",
   "execution_count": 11,
   "metadata": {},
   "outputs": [
    {
     "output_type": "stream",
     "name": "stdout",
     "text": [
      "# ::id bolt12_64556_5627.3 ::date 2012-12-04T18:01:17 ::annotator SDL-AMR-09 ::preferred\n# ::snt Fleets bumping fishing boats. Little evil Japanese ghosts stirring up trouble and unrest. With hearts of thieves and arrogant form, they again show their wolfish appearance\n# ::tokens [\"Fleets\", \"bumping\", \"fishing\", \"boats\", \".\", \"Little\", \"evil\", \"Japanese\", \"ghosts\", \"stirring-up\", \"trouble\", \"and\", \"unrest\", \".\", \"With\", \"hearts\", \"of\", \"thieves\", \"and\", \"arrogant\", \"form\", \",\", \"they\", \"again\", \"show\", \"their\", \"wolfish\", \"appearance\"]\n# ::lemmas [\"fleet\", \"bump\", \"fishing\", \"boat\", \".\", \"little\", \"evil\", \"japanese\", \"ghost\", \"stir-up\", \"trouble\", \"and\", \"unrest\", \".\", \"with\", \"heart\", \"of\", \"thief\", \"and\", \"arrogant\", \"form\", \",\", \"they\", \"again\", \"show\", \"they\", \"wolfish\", \"appearance\"]\n# ::pos_tags [\"NNS\", \"VBG\", \"NN\", \"NNS\", \".\", \"JJ\", \"JJ\", \"JJ\", \"NNS\", \"COMP\", \"NN\", \"CC\", \"NN\", \".\", \"IN\", \"NNS\", \"IN\", \"NNS\", \"CC\", \"JJ\", \"NN\", \",\", \"PRP\", \"RB\", \"VBP\", \"PRP$\", \"JJ\", \"NN\"]\n# ::ner_tags [\"O\", \"O\", \"O\", \"O\", \"O\", \"O\", \"O\", \"NATIONALITY\", \"O\", \"0\", \"O\", \"O\", \"O\", \"O\", \"O\", \"O\", \"O\", \"O\", \"O\", \"O\", \"O\", \"O\", \"O\", \"O\", \"O\", \"O\", \"O\", \"O\"]\n# ::save-date Sat Jan 10, 2015 ::file bolt12_64556_5627_3.txt\n(m / multi-sentence\n      :snt1 (b / bump-01\n            :ARG1 (b2 / boat\n                  :purpose (f / fish-01))\n            :ARG2 (f2 / fleet))\n      :snt2 (s / stir-up-04\n            :ARG0 (g / ghost\n                  :mod (c / country\n                        :name (n / name\n                              :op1 \"Japan\")\n                        :wiki \"Japan\")\n                  :mod (l / little)\n                  :mod (e / evil))\n            :ARG1 (a / and\n                  :op1 (t / trouble)\n                  :op2 (u / unrest)))\n      :snt3 (s2 / show-01\n            :ARG0 (t2 / they)\n            :ARG1 (a3 / appearance\n                  :mod (w / wolfish)\n                  :poss t2)\n            :mod (a2 / again)\n            :prep-with (a4 / and\n                  :op1 (h / heart\n                        :mod (p / person\n                              :ARG0-of (s3 / steal-01)))\n                  :op2 (f3 / form\n                        :mod (a5 / arrogance)))))\n"
     ]
    }
   ],
   "source": [
    "from stog.data.dataset_readers.amr_parsing.preprocess.input_cleaner import clean\n",
    "\n",
    "util_dir = \"data/AMR/amr_2.0_utils\"\n",
    "example_annotated = example_path + \".features\"\n",
    "\n",
    "with open(example_annotated + '.input_clean', 'w', encoding='utf-8') as f:\n",
    "    for amr in AMRIO.read(example_annotated):\n",
    "        clean(amr)\n",
    "        f.write(str(amr) + '\\n\\n')\n",
    "print(amr)"
   ]
  },
  {
   "cell_type": "code",
   "execution_count": 13,
   "metadata": {},
   "outputs": [
    {
     "output_type": "stream",
     "name": "stderr",
     "text": [
      "[2021-04-21 01:01:46,434 INFO] Done.\n",
      "\n",
      "# ::id bolt12_64556_5627.3 ::date 2012-12-04T18:01:17 ::annotator SDL-AMR-09 ::preferred\n",
      "# ::snt Fleets bumping fishing boats. Little evil Japanese ghosts stirring up trouble and unrest. With hearts of thieves and arrogant form, they again show their wolfish appearance\n",
      "# ::tokens [\"Fleets\", \"bumping\", \"fishing\", \"boats\", \".\", \"Little\", \"evil\", \"NATIONALITY_1\", \"ghosts\", \"stirring-up\", \"trouble\", \"and\", \"unrest\", \".\", \"With\", \"hearts\", \"of\", \"thieves\", \"and\", \"arrogant\", \"form\", \",\", \"they\", \"again\", \"show\", \"their\", \"wolfish\", \"appearance\"]\n",
      "# ::lemmas [\"fleet\", \"bump\", \"fishing\", \"boat\", \".\", \"little\", \"evil\", \"NATIONALITY_1\", \"ghost\", \"stir-up\", \"trouble\", \"and\", \"unrest\", \".\", \"with\", \"heart\", \"of\", \"thief\", \"and\", \"arrogant\", \"form\", \",\", \"they\", \"again\", \"show\", \"they\", \"wolfish\", \"appearance\"]\n",
      "# ::pos_tags [\"NNS\", \"VBG\", \"NN\", \"NNS\", \".\", \"JJ\", \"JJ\", \"NNP\", \"NNS\", \"COMP\", \"NN\", \"CC\", \"NN\", \".\", \"IN\", \"NNS\", \"IN\", \"NNS\", \"CC\", \"JJ\", \"NN\", \",\", \"PRP\", \"RB\", \"VBP\", \"PRP$\", \"JJ\", \"NN\"]\n",
      "# ::ner_tags [\"O\", \"O\", \"O\", \"O\", \"O\", \"O\", \"O\", \"NATIONALITY\", \"O\", \"0\", \"O\", \"O\", \"O\", \"O\", \"O\", \"O\", \"O\", \"O\", \"O\", \"O\", \"O\", \"O\", \"O\", \"O\", \"O\", \"O\", \"O\", \"O\"]\n",
      "# ::abstract_map {\"NATIONALITY_1\": {\"type\": \"named-entity\", \"span\": \"Japanese\", \"ops\": \"Japan\"}}\n",
      "# ::save-date Sat Jan 10, 2015 ::file bolt12_64556_5627_3.txt\n",
      "(m / multi-sentence\n",
      "      :snt1 (b / bump-01\n",
      "            :ARG1 (b2 / boat\n",
      "                  :purpose (f / fish-01))\n",
      "            :ARG2 (f2 / fleet))\n",
      "      :snt2 (s / stir-up-04\n",
      "            :ARG0 (g / ghost\n",
      "                  :mod (c / country\n",
      "                        :name (n / NATIONALITY_1))\n",
      "                  :mod (l / little)\n",
      "                  :mod (e / evil))\n",
      "            :ARG1 (a / and\n",
      "                  :op1 (t / trouble)\n",
      "                  :op2 (u / unrest)))\n",
      "      :snt3 (s2 / show-01\n",
      "            :ARG0 (t2 / they)\n",
      "            :ARG1 (a3 / appearance\n",
      "                  :mod (w / wolfish)\n",
      "                  :poss t2)\n",
      "            :mod (a2 / again)\n",
      "            :prep-with (a4 / and\n",
      "                  :op1 (h / heart\n",
      "                        :mod (p / person\n",
      "                              :ARG0-of (s3 / steal-01)))\n",
      "                  :op2 (f3 / form\n",
      "                        :mod (a5 / arrogance)))))\n"
     ]
    }
   ],
   "source": [
    "from stog.data.dataset_readers.amr_parsing.preprocess.recategorizer import Recategorizer\n",
    "\n",
    "example_cleaned = example_annotated + \".input_clean\"\n",
    "amr_train_file = None\n",
    "build_utils = False\n",
    "dump_dir = util_dir\n",
    "\n",
    "recategorizer = Recategorizer(\n",
    "    train_data=amr_train_file,\n",
    "    build_utils=build_utils,\n",
    "    util_dir=dump_dir)\n",
    "\n",
    "for amr in recategorizer.recategorize_file(example_cleaned):\n",
    "    print(amr)\n"
   ]
  },
  {
   "source": [
    "### Test Data Anonymize\n",
    "\n",
    "Untuk test data tidak perlu recategorize karena hanya perlu untuk mengambil informasi anonimisasi dari proses recategorize yang sudah dilakukan untuk training data. Karena pada dasarnya model ditrain pada vocabnya training data, jadi percuma kalau ini juga di recategorize."
   ],
   "cell_type": "markdown",
   "metadata": {}
  },
  {
   "cell_type": "code",
   "execution_count": 14,
   "metadata": {},
   "outputs": [
    {
     "output_type": "stream",
     "name": "stdout",
     "text": [
      "# ::id bolt12_64556_5627.3 ::date 2012-12-04T18:01:17 ::annotator SDL-AMR-09 ::preferred\n# ::snt Fleets bumping fishing boats. Little evil Japanese ghosts stirring up trouble and unrest. With hearts of thieves and arrogant form, they again show their wolfish appearance\n# ::tokens [\"Fleets\", \"bumping\", \"fishing\", \"boats\", \".\", \"Little\", \"evil\", \"NATIONALITY_1\", \"ghosts\", \"stirring-up\", \"trouble\", \"and\", \"unrest\", \".\", \"With\", \"hearts\", \"of\", \"thieves\", \"and\", \"arrogant\", \"form\", \",\", \"they\", \"again\", \"show\", \"their\", \"wolfish\", \"appearance\"]\n# ::lemmas [\"fleet\", \"bump\", \"fishing\", \"boat\", \".\", \"little\", \"evil\", \"NATIONALITY_1\", \"ghost\", \"stir-up\", \"trouble\", \"and\", \"unrest\", \".\", \"with\", \"heart\", \"of\", \"thief\", \"and\", \"arrogant\", \"form\", \",\", \"they\", \"again\", \"show\", \"they\", \"wolfish\", \"appearance\"]\n# ::pos_tags [\"NNS\", \"VBG\", \"NN\", \"NNS\", \".\", \"JJ\", \"JJ\", \"NNP\", \"NNS\", \"COMP\", \"NN\", \"CC\", \"NN\", \".\", \"IN\", \"NNS\", \"IN\", \"NNS\", \"CC\", \"JJ\", \"NN\", \",\", \"PRP\", \"RB\", \"VBP\", \"PRP$\", \"JJ\", \"NN\"]\n# ::ner_tags [\"O\", \"O\", \"O\", \"O\", \"O\", \"O\", \"O\", \"NATIONALITY\", \"O\", \"0\", \"O\", \"O\", \"O\", \"O\", \"O\", \"O\", \"O\", \"O\", \"O\", \"O\", \"O\", \"O\", \"O\", \"O\", \"O\", \"O\", \"O\", \"O\"]\n# ::abstract_map {\"NATIONALITY_1\": {\"type\": \"named-entity\", \"span\": \"Japanese\", \"ner\": \"NATIONALITY\", \"ops\": \"Japan\", \"lemma\": \"Japan\"}}\n# ::save-date Sat Jan 10, 2015 ::file bolt12_64556_5627_3.txt\n(m / multi-sentence\n      :snt1 (b / bump-01\n            :ARG1 (b2 / boat\n                  :purpose (f / fish-01))\n            :ARG2 (f2 / fleet))\n      :snt2 (s / stir-up-04\n            :ARG0 (g / ghost\n                  :mod (c / country\n                        :name (n / name\n                              :op1 \"Japan\")\n                        :wiki \"Japan\")\n                  :mod (l / little)\n                  :mod (e / evil))\n            :ARG1 (a / and\n                  :op1 (t / trouble)\n                  :op2 (u / unrest)))\n      :snt3 (s2 / show-01\n            :ARG0 (t2 / they)\n            :ARG1 (a3 / appearance\n                  :mod (w / wolfish)\n                  :poss t2)\n            :mod (a2 / again)\n            :prep-with (a4 / and\n                  :op1 (h / heart\n                        :mod (p / person\n                              :ARG0-of (s3 / steal-01)))\n                  :op2 (f3 / form\n                        :mod (a5 / arrogance)))))\n"
     ]
    }
   ],
   "source": [
    "from stog.data.dataset_readers.amr_parsing.preprocess.text_anonymizor import  TextAnonymizor\n",
    "\n",
    "text_anonymizor = TextAnonymizor.from_json(\n",
    "    os.path.join(util_dir, \"text_anonymization_rules.json\"))\n",
    "\n",
    "with open(example_cleaned + \".recategorize\", \"w\", encoding=\"utf-8\") as f:\n",
    "    for amr in AMRIO.read(example_cleaned):\n",
    "        amr.abstract_map = text_anonymizor(amr)\n",
    "        f.write(str(amr) + \"\\n\\n\")\n",
    "print(amr)"
   ]
  },
  {
   "cell_type": "code",
   "execution_count": 16,
   "metadata": {},
   "outputs": [
    {
     "output_type": "stream",
     "name": "stdout",
     "text": [
      "# ::id bolt12_64556_5627.3 ::date 2012-12-04T18:01:17 ::annotator SDL-AMR-09 ::preferred\n# ::snt Fleets bumping fishing boats. Little evil Japanese ghosts stirring up trouble and unrest. With hearts of thieves and arrogant form, they again show their wolfish appearance\n# ::tokens [\"Fleets\", \"bumping\", \"fishing\", \"boats\", \".\", \"Little\", \"evil\", \"NATIONALITY_1\", \"ghosts\", \"stirring-up\", \"trouble\", \"and\", \"unrest\", \".\", \"With\", \"hearts\", \"of\", \"thieves\", \"and\", \"arrogant\", \"form\", \",\", \"they\", \"again\", \"show\", \"their\", \"wolfish\", \"appearance\"]\n# ::lemmas [\"fleet\", \"bump\", \"fishing\", \"boat\", \".\", \"little\", \"evil\", \"NATIONALITY_1\", \"ghost\", \"stir-up\", \"trouble\", \"and\", \"unrest\", \".\", \"with\", \"heart\", \"of\", \"thief\", \"and\", \"arrogant\", \"form\", \",\", \"they\", \"again\", \"show\", \"they\", \"wolfish\", \"appearance\"]\n# ::pos_tags [\"NNS\", \"VBG\", \"NN\", \"NNS\", \".\", \"JJ\", \"JJ\", \"NNP\", \"NNS\", \"COMP\", \"NN\", \"CC\", \"NN\", \".\", \"IN\", \"NNS\", \"IN\", \"NNS\", \"CC\", \"JJ\", \"NN\", \",\", \"PRP\", \"RB\", \"VBP\", \"PRP$\", \"JJ\", \"NN\"]\n# ::ner_tags [\"O\", \"O\", \"O\", \"O\", \"O\", \"O\", \"O\", \"NATIONALITY\", \"O\", \"0\", \"O\", \"O\", \"O\", \"O\", \"O\", \"O\", \"O\", \"O\", \"O\", \"O\", \"O\", \"O\", \"O\", \"O\", \"O\", \"O\", \"O\", \"O\"]\n# ::abstract_map {\"NATIONALITY_1\": {\"type\": \"named-entity\", \"span\": \"Japanese\", \"ner\": \"NATIONALITY\", \"ops\": \"Japan\", \"lemma\": \"Japan\"}}\n# ::save-date Sat Jan 10, 2015 ::file bolt12_64556_5627_3.txt\n(m / multi-sentence\n      :snt1 (b / bump-01\n            :ARG1 (b2 / boat\n                  :purpose (f / fish-01))\n            :ARG2 (f2 / fleet))\n      :snt2 (s / stir-up\n            :ARG0 (g / ghost\n                  :mod (c / country\n                        :name (n / name\n                              :op1 \"Japan\")\n                        :wiki \"Japan\")\n                  :mod (l / little)\n                  :mod (e / evil))\n            :ARG1 (a / and\n                  :op1 (t / trouble)\n                  :op2 (u / unrest)))\n      :snt3 (s2 / show-01\n            :ARG0 (t2 / they)\n            :ARG1 (a3 / appearance\n                  :mod (w / wolfish)\n                  :poss t2)\n            :mod (a2 / again)\n            :prep-with (a4 / and\n                  :op1 (h / heart\n                        :mod (p / person\n                              :ARG0-of (s3 / steal)))\n                  :op2 (f3 / form\n                        :mod (a5 / arrogance)))))\n"
     ]
    }
   ],
   "source": [
    "from stog.data.dataset_readers.amr_parsing.preprocess.sense_remover import SenseRemover\n",
    "from stog.data.dataset_readers.amr_parsing.node_utils import NodeUtilities as NU\n",
    "\n",
    "example_recategorized = example_cleaned + \".recategorize\"    \n",
    "\n",
    "node_utils = NU.from_json(util_dir, 0)\n",
    "\n",
    "remover = SenseRemover(node_utils)\n",
    "\n",
    "\n",
    "with open(example_recategorized + '.nosense', 'w', encoding='utf-8') as f:\n",
    "    for amr in remover.remove_file(example_recategorized):\n",
    "        f.write(str(amr) + '\\n\\n')\n",
    "remover.reset_statistics()\n",
    "print(amr)"
   ]
  },
  {
   "cell_type": "code",
   "execution_count": 17,
   "metadata": {},
   "outputs": [],
   "source": [
    "! mv example.txt.features.input_clean.recategorize.nosense example.txt.preproc"
   ]
  },
  {
   "source": [
    "#  Prediction\n",
    "\n",
    "``` bash\n",
    "python -u -m stog.commands.predict \\\n",
    "    --archive-file ckpt-amr-2.0 \\\n",
    "    --weights-file ckpt-amr-2.0/best.th \\\n",
    "    --input-file data/AMR/amr_2.0/test.txt.features.preproc \\\n",
    "    --batch-size 16 \\\n",
    "    --use-dataset-reader \\\n",
    "    --cuda-device 0 \\\n",
    "    --output-file test.pred.txt \\\n",
    "    --silent \\\n",
    "    --beam-size 5 \\\n",
    "    --predictor STOG\n",
    "```"
   ],
   "cell_type": "markdown",
   "metadata": {}
  },
  {
   "cell_type": "code",
   "execution_count": 2,
   "metadata": {},
   "outputs": [
    {
     "output_type": "stream",
     "name": "stderr",
     "text": [
      "[2021-04-21 11:55:21,874 INFO] loading archive file ckpt-amr-2.0\n",
      "[2021-04-21 11:55:21,877 INFO] Loading token dictionary from ckpt-amr-2.0\\vocabulary.\n",
      "[2021-04-21 11:55:21,919 INFO] Building the STOG Model...\n",
      "[2021-04-21 11:55:21,921 INFO] loading archive file data/bert-base-cased\n",
      "[2021-04-21 11:55:21,925 INFO] Model config {\n",
      "  \"attention_probs_dropout_prob\": 0.1,\n",
      "  \"hidden_act\": \"gelu\",\n",
      "  \"hidden_dropout_prob\": 0.1,\n",
      "  \"hidden_size\": 768,\n",
      "  \"initializer_range\": 0.02,\n",
      "  \"intermediate_size\": 3072,\n",
      "  \"max_position_embeddings\": 512,\n",
      "  \"num_attention_heads\": 12,\n",
      "  \"num_hidden_layers\": 12,\n",
      "  \"type_vocab_size\": 2,\n",
      "  \"vocab_size\": 28996\n",
      "}\n",
      "\n",
      "[2021-04-21 11:55:27,373 INFO] encoder_token: 18002\n",
      "[2021-04-21 11:55:27,374 INFO] encoder_chars: 113\n",
      "[2021-04-21 11:55:27,378 INFO] decoder_token: 12202\n",
      "[2021-04-21 11:55:27,381 INFO] decoder_chars: 87\n",
      "[2021-04-21 11:55:32,092 INFO] loading vocabulary file data/bert-base-cased/bert-base-cased-vocab.txt\n",
      "[2021-04-21 11:55:32,218 INFO] instantiating registered subclass STOG of <class 'stog.predictors.predictor.Predictor'>\n",
      "0it [00:00, ?it/s][2021-04-21 11:55:32,227 INFO] Reading instances from lines in file at: example.txt.preproc\n",
      "[2021-04-21 11:55:32,241 INFO] BERT OOV  rate: 0.0000 (0/40)\n",
      "[2021-04-21 11:55:32,242 INFO] POS tag coverage: 0.6333 (19/30)\n",
      "1it [00:00, 55.53it/s]\n",
      "input:  Instance with fields:\n",
      " \t src_tokens: TextField of length 28 with text: \n",
      " \t\t[fleet, bump, fishing, boat, ., little, evil, NATIONALITY_1, ghost, stir-up, trouble, and, unrest,\n",
      "\t\t., with, heart, of, thief, and, arrogant, form, ,, they, again, show, they, wolfish, appearance]\n",
      " \t\tand TokenIndexers : {'encoder_tokens': 'SingleIdTokenIndexer', 'encoder_characters': 'TokenCharactersIndexer'} \n",
      " \t src_token_ids: ArrayField with shape: (40,). \n",
      " \t src_token_subword_index: ArrayField with shape: (28, 8). \n",
      " \t src_must_copy_tags: SequenceLabelField of length 28 with labels:\n",
      " \t\t[0, 0, 0, 0, 0, 0, 0, 1, 0, 0, 0, 0, 0, 0, 0, 0, 0, 0, 0, 0, 0, 0, 0, 0, 0, 0, 0, 0]\n",
      " \t\tin namespace: 'must_copy_tags'. \n",
      " \t tgt_tokens: TextField of length 30 with text: \n",
      " \t\t[@start@, multi-sentence, bump-01, boat, fish-01, fleet, stir-up, ghost, country, \"Japan\", name,\n",
      "\t\t\"Japan\", little, evil, and, trouble, unrest, show-01, they, appearance, wolfish, they, again, and,\n",
      "\t\theart, person, steal, form, arrogance, @end@]\n",
      " \t\tand TokenIndexers : {'decoder_tokens': 'SingleIdTokenIndexer', 'decoder_characters': 'TokenCharactersIndexer'} \n",
      " \t src_pos_tags: SequenceLabelField of length 28 with labels:\n",
      " \t\t['NNS', 'VBG', 'NN', 'NNS', '.', 'JJ', 'JJ', 'NNP', 'NNS', 'COMP', 'NN', 'CC', 'NN', '.', 'IN',\n",
      "\t\t'NNS', 'IN', 'NNS', 'CC', 'JJ', 'NN', ',', 'PRP', 'RB', 'VBP', 'PRP$', 'JJ', 'NN']\n",
      " \t\tin namespace: 'pos_tags'. \n",
      " \t tgt_pos_tags: SequenceLabelField of length 30 with labels:\n",
      " \t\t['@@UNKNOWN@@', '@@UNKNOWN@@', 'VBG', 'NNS', '@@UNKNOWN@@', 'NNS', 'COMP', 'NNS', '@@UNKNOWN@@',\n",
      "\t\t'@@UNKNOWN@@', '@@UNKNOWN@@', '@@UNKNOWN@@', 'JJ', 'JJ', 'CC', 'NN', 'NN', 'VBP', 'PRP', 'NN', 'JJ',\n",
      "\t\t'PRP', 'RB', 'CC', 'NNS', '@@UNKNOWN@@', '@@UNKNOWN@@', 'NN', '@@UNKNOWN@@', '@@UNKNOWN@@']\n",
      " \t\tin namespace: 'pos_tags'. \n",
      " \t tgt_copy_indices: SequenceLabelField of length 30 with labels:\n",
      " \t\t[0, 0, 0, 0, 0, 0, 0, 0, 0, 0, 0, 0, 0, 0, 0, 0, 0, 0, 0, 0, 0, 18, 0, 0, 0, 0, 0, 0, 0, 0]\n",
      " \t\tin namespace: 'coref_tags'. \n",
      " \t tgt_copy_mask: SequenceLabelField of length 30 with labels:\n",
      " \t\t[0, 0, 0, 0, 0, 0, 0, 0, 0, 1, 0, 1, 0, 0, 1, 0, 0, 0, 1, 0, 0, 1, 0, 1, 0, 0, 0, 0, 0, 0]\n",
      " \t\tin namespace: 'coref_mask_tags'. \n",
      " \t tgt_copy_map: AdjacencyField of length 30\n",
      "\t\twith indices:\n",
      " \t\t[(0, 0), (1, 1), (2, 2), (3, 3), (4, 4), (5, 5), (6, 6), (7, 7), (8, 8), (9, 9), (10, 10), (11, 11),\n",
      "\t\t(12, 12), (13, 13), (14, 14), (15, 15), (16, 16), (17, 17), (18, 18), (19, 19), (20, 20), (21, 18),\n",
      "\t\t(22, 22), (23, 23), (24, 24), (25, 25), (26, 26), (27, 27), (28, 28), (29, 29)]\n",
      "\n",
      "\t\tand labels:\n",
      " \t\tNone\n",
      " \t\tin namespace: 'labels'. \n",
      " \t src_copy_indices: SequenceLabelField of length 30 with labels:\n",
      " \t\t[1, 1, 1, 5, 1, 2, 11, 10, 1, 1, 1, 1, 7, 8, 13, 12, 14, 1, 22, 26, 25, 22, 23, 13, 16, 1, 1, 20, 1,\n",
      "\t\t1]\n",
      " \t\tin namespace: 'source_copy_target_tags'. \n",
      " \t src_copy_map: AdjacencyField of length 30\n",
      "\t\twith indices:\n",
      " \t\t[(0, 1), (1, 2), (2, 3), (3, 4), (4, 5), (5, 6), (6, 7), (7, 8), (8, 9), (9, 10), (10, 11), (11,\n",
      "\t\t12), (12, 13), (13, 14), (14, 6), (15, 15), (16, 16), (17, 17), (18, 18), (19, 13), (20, 19), (21,\n",
      "\t\t20), (22, 21), (23, 22), (24, 23), (25, 24), (26, 22), (27, 25), (28, 26)]\n",
      "\n",
      "\t\tand labels:\n",
      " \t\tNone\n",
      " \t\tin namespace: 'labels'. \n",
      " \t head_tags: SequenceLabelField of length 30 with labels:\n",
      " \t\t['root', 'snt1', 'ARG1', 'purpose', 'ARG2', 'snt2', 'ARG0', 'mod', 'wiki', 'name', 'op1', 'mod',\n",
      "\t\t'mod', 'ARG1', 'op1', 'op2', 'snt3', 'ARG0', 'ARG1', 'mod', 'poss', 'mod', 'prep-with', 'op1',\n",
      "\t\t'mod', 'ARG0-of', 'op2', 'mod']\n",
      " \t\tin namespace: 'head_tags'. \n",
      " \t head_indices: SequenceLabelField of length 30 with labels:\n",
      " \t\t[0, 1, 2, 3, 2, 1, 6, 7, 8, 8, 10, 7, 7, 6, 14, 14, 1, 17, 17, 19, 19, 17, 17, 23, 24, 25, 23, 27]\n",
      " \t\tin namespace: 'head_index_tags'. \n",
      " \t src_tokens_str: MetadataField (print field.metadata to see specific information). \n",
      " \t tgt_tokens_str: MetadataField (print field.metadata to see specific information). \n",
      " \t src_copy_vocab: MetadataField (print field.metadata to see specific information). \n",
      " \t tag_lut: MetadataField (print field.metadata to see specific information). \n",
      " \t source_copy_invalid_ids: MetadataField (print field.metadata to see specific information). \n",
      " \t amr: MetadataField (print field.metadata to see specific information). \n",
      "\n",
      "prediction:  # ::id bolt12_64556_5627.3 ::date 2012-12-04T18:01:17 ::annotator SDL-AMR-09 ::preferred\n",
      "# ::snt Fleets bumping fishing boats. Little evil Japanese ghosts stirring up trouble and unrest. With hearts of thieves and arrogant form, they again show their wolfish appearance\n",
      "# ::tokens [\"Fleets\", \"bumping\", \"fishing\", \"boats\", \".\", \"Little\", \"evil\", \"NATIONALITY_1\", \"ghosts\", \"stirring-up\", \"trouble\", \"and\", \"unrest\", \".\", \"With\", \"hearts\", \"of\", \"thieves\", \"and\", \"arrogant\", \"form\", \",\", \"they\", \"again\", \"show\", \"their\", \"wolfish\", \"appearance\"]\n",
      "# ::lemmas [\"fleet\", \"bump\", \"fishing\", \"boat\", \".\", \"little\", \"evil\", \"NATIONALITY_1\", \"ghost\", \"stir-up\", \"trouble\", \"and\", \"unrest\", \".\", \"with\", \"heart\", \"of\", \"thief\", \"and\", \"arrogant\", \"form\", \",\", \"they\", \"again\", \"show\", \"they\", \"wolfish\", \"appearance\"]\n",
      "# ::pos_tags [\"NNS\", \"VBG\", \"NN\", \"NNS\", \".\", \"JJ\", \"JJ\", \"NNP\", \"NNS\", \"COMP\", \"NN\", \"CC\", \"NN\", \".\", \"IN\", \"NNS\", \"IN\", \"NNS\", \"CC\", \"JJ\", \"NN\", \",\", \"PRP\", \"RB\", \"VBP\", \"PRP$\", \"JJ\", \"NN\"]\n",
      "# ::ner_tags [\"O\", \"O\", \"O\", \"O\", \"O\", \"O\", \"O\", \"NATIONALITY\", \"O\", \"0\", \"O\", \"O\", \"O\", \"O\", \"O\", \"O\", \"O\", \"O\", \"O\", \"O\", \"O\", \"O\", \"O\", \"O\", \"O\", \"O\", \"O\", \"O\"]\n",
      "# ::abstract_map {\"NATIONALITY_1\": {\"type\": \"named-entity\", \"span\": \"Japanese\", \"ner\": \"NATIONALITY\", \"ops\": \"Japan\", \"lemma\": \"Japan\"}}\n",
      "# ::tgt_ref multi-sentence fleet boat @@UNKNOWN@@ bump stir-up ghost evil little country NATIONALITY_1 and trouble-01 unrest show-01 they appear-01 and heart person steal form arrogant\n",
      "# ::tgt_pred multi-sentence bump-01 boat fish-01 fleet stir-up ghost country \"Japan\" name \"Japan\" little evil and trouble unrest show-01 they appearance wolfish they again and heart person steal form arrogance\n",
      "# ::save-date Sat Jan 10, 2015 ::file bolt12_64556_5627_3.txt\n",
      "(vv1 / multi-sentence\n",
      "      :snt1 (vv2 / fleet\n",
      "            :consist-of (vv3 / boat)\n",
      "            :mod (vv5 / bump))\n",
      "      :snt2 (vv6 / stir-up\n",
      "            :ARG0 (vv7 / ghost\n",
      "                  :mod (vv8 / evil)\n",
      "                  :mod (vv9 / little)\n",
      "                  :mod (vv10 / country\n",
      "                        :name (vv11 / NATIONALITY_1)))\n",
      "            :ARG1 (vv12 / and\n",
      "                  :op1 (vv13 / trouble-01)\n",
      "                  :op2 (vv14 / unrest)))\n",
      "      :snt3 (vv15 / show-01\n",
      "            :ARG0 (vv16 / they)\n",
      "            :ARG1 (vv17 / appear-01\n",
      "                  :ARG1 (vv18 / and\n",
      "                        :op1 (vv19 / heart\n",
      "                              :part-of (vv20 / person\n",
      "                                    :ARG0-of (vv21 / steal)))\n",
      "                        :op2 (vv22 / form\n",
      "                              :mod (vv23 / arrogant))))))\n",
      "\n",
      "\n"
     ]
    }
   ],
   "source": [
    "from stog.commands.predict import _predict\n",
    "from dataclasses import dataclass\n",
    "import torch\n",
    "\n",
    "@dataclass\n",
    "class PredictArgs:\n",
    "    archive_file: str = \"ckpt-amr-2.0\"\n",
    "    weights_file: str = \"ckpt-amr-2.0/best.th\" \n",
    "    input_file: str = \"example.txt.preproc\"\n",
    "    batch_size: int = 1\n",
    "    use_dataset_reader: bool=True \n",
    "    cuda_device: int= 0 \n",
    "    output_file: str= \"example.pred.txt\"\n",
    "    silent: bool= True \n",
    "    beam_size: int= 5 \n",
    "    predictor: str= \"STOG\"\n",
    "\n",
    "args = PredictArgs(silent = False   )\n",
    "if args.cuda_device >= 0:\n",
    "    device = torch.device('cuda:{}'.format(args.cuda_device))\n",
    "else:\n",
    "    device = torch.device('cpu')\n",
    "args.cuda_device = device\n",
    "\n",
    "# ini masalah karena ga batch, coba overwrite biar pun ga batch tetep bisa jalan buat predict\n",
    "_predict(args)\n",
    "\n"
   ]
  },
  {
   "source": [
    "# Post Processing"
   ],
   "cell_type": "markdown",
   "metadata": {}
  },
  {
   "source": [
    "from stog.data.dataset_readers.amr_parsing.postprocess.node_restore import NodeRestore\n",
    "from stog.data.dataset_readers.amr_parsing.node_utils import NodeUtilities as NU\n",
    "util_dir = \"data/AMR/amr_2.0_utils\" \n",
    "file_path = \"example.pred.txt\"\n",
    "\n",
    "node_utils = NU.from_json(util_dir, 0)\n",
    "nr = NodeRestore(node_utils)\n",
    "\n",
    "with open(file_path + '.frame', 'w', encoding='utf-8') as f:\n",
    "    for amr in nr.restore_file(file_path):\n",
    "        f.write(str(amr) + '\\n\\n')\n"
   ],
   "cell_type": "code",
   "metadata": {},
   "execution_count": 6,
   "outputs": []
  },
  {
   "cell_type": "code",
   "execution_count": 10,
   "metadata": {},
   "outputs": [],
   "source": [
    "from stog.data.dataset_readers.amr_parsing.postprocess.wikification import Wikification\n",
    "\n",
    "file_path = \"example.pred.txt.frame\"\n",
    "dump_spotlight_wiki = False\n",
    "\n",
    "wikification = Wikification(util_dir=util_dir)\n",
    "\n",
    "if dump_spotlight_wiki:\n",
    "    wikification.dump_spotlight_wiki(file_path)\n",
    "\n",
    "else:\n",
    "    wikification.load_utils()\n",
    "    with open(file_path + '.wiki', 'w', encoding='utf-8') as f:\n",
    "        for amr in wikification.wikify_file(file_path):\n",
    "            f.write(str(amr) + '\\n\\n')"
   ]
  },
  {
   "cell_type": "code",
   "execution_count": 11,
   "metadata": {},
   "outputs": [
    {
     "output_type": "stream",
     "name": "stderr",
     "text": [
      "[2021-04-21 12:26:35,646 INFO] Restored 1 name nodes.\n",
      "[2021-04-21 12:26:35,647 INFO] Expanded 1 name nodes.\n",
      "[2021-04-21 12:26:35,650 INFO] Expanded 0 date nodes.\n",
      "[2021-04-21 12:26:35,652 INFO] Expanded 0 score nodes.\n",
      "[2021-04-21 12:26:35,655 INFO] Expanded 0 ordinal nodes.\n",
      "[2021-04-21 12:26:35,658 INFO] Expanded 0 quantities.\n",
      "[2021-04-21 12:26:35,662 INFO] Expanded 0 urls.\n"
     ]
    }
   ],
   "source": [
    "from stog.data.dataset_readers.amr_parsing.postprocess.expander import Expander\n",
    "\n",
    "file_path = \"example.pred.txt.frame.wiki\"\n",
    "\n",
    "expander = Expander(util_dir=util_dir)\n",
    "\n",
    "with open(file_path + '.expand', 'w', encoding='utf-8') as f:\n",
    "    for amr in expander.expand_file(file_path):\n",
    "        f.write(str(amr) + '\\n\\n') "
   ]
  }
 ]
}